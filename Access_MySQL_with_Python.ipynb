Access MySQL with Python
Access MySQL with Python
This notebook shows how to access a MySQL database when using Python.
Table of contents
Setup
Import the MySQLdb Python library
Confirm that MySQL is running
Identify and enter the database connection credentials
Create the database connection
Create a table
Insert data into a table
Query data
Close the database connection
Summary
Setup
Before beginning you will need access to a MySQL database. MySQL is an open-source relational database management system (RDBMS) that is widely used as a client–server model RDBMS. To learn more, see the MySQL website.
You should have a MySQL instance installed and running in the cloud. You can use Amazon RDS (Relational Database Service) to set up, operate, and scale a MySQL instance.
Note: if you are using an Amazon RDS service, make sure it accept connections from every IP.
Import the MySQLdb Python library
MySQLdb is an thread-compatible interface to the popular MySQL database server that provides the Python database API. Run the commands below to install and import the MySQLdb library:
In [ ]:
!pip install MySQL-python --user
In [ ]:
import MySQLdb
Confirm that MySQL is running
You can test to see if MySQL is installed by opening your terminal and typing “mysql”. If you receive an error that MySQL cannot connect, it means that MySQL is installed, but not running.
Identify and enter the database connection credentials
Connecting to MySQL database requires the following information:
Host name or IP address
Host port
default database name
User ID
User password
All of this information must be captured in a connection string in a subsequent step. Provide the MySQL connection information as shown:
Create the database connection
Set up a connection as follows. If a connect cannot be made an exception will be raised. conn.cursor will return a cursor object and you can use this cursor to perform queries:
In [ ]:
conn = MySQLdb.connect(host=dsn_hostname, port=dsn_port, user=dsn_uid, passwd=dsn_pwd, db=dsn_database)
Create a table
Create a test table named Cars. The code below drops the Cars table if it already exists, and then creates the new table:
In [ ]:
conn.query("""DROP TABLE IF EXISTS Cars""")
conn.query("""CREATE TABLE Cars(Id INTEGER PRIMARY KEY, Name VARCHAR(20), Price INT)""")
Insert data into a table
Run the following commands to create records in the new Cars table:
In [ ]:
conn.query("""INSERT INTO Cars VALUES(1,'Audi',52642)""")
conn.query("""INSERT INTO Cars VALUES(2,'Mercedes',57127)""")
conn.query("""INSERT INTO Cars VALUES(3,'Skoda',9000)""")
conn.query("""INSERT INTO Cars VALUES(4,'Volvo',29000)""")
conn.query("""INSERT INTO Cars VALUES(5,'Bentley',350000)""")
conn.query("""INSERT INTO Cars VALUES(6,'Citroen',21000)""")
conn.query("""INSERT INTO Cars VALUES(7,'Hummer',41400)""")
conn.query("""INSERT INTO Cars VALUES(8,'Volkswagen',21600)""")
Query data
To fetch and display records from the Cars table, create a cursor and execute queries on it:
In [ ]:
cursor=conn.cursor()
cursor.execute("""SELECT * FROM Cars""")
cursor.fetchone()
You can display the records neatly using pretty print:
In [ ]:
print "\nShow me the databases:\n"
rows = cursor.fetchall()
import pprint
pprint.pprint(rows)
Close the database connection
It is good practice to close your database connection after work is done:
In [ ]:
conn.close()
Summary
This notebook demonstrated how to establish a connection to a MySQL database from Python using the MySQLdb library. For more information on the MySQLdb package see the official MySQLdb User's Guide.
Authors
Saeed Aghabozorgi, PhD, is a Data Scientist in IBM with a track record of developing enterprise-level applications that substantially increases clients' ability to turn data into actionable knowledge. He is a researcher in the data mining field and an expert in developing advanced analytic methods like machine learning and statistical modelling on large data sets.
Polong Lin is a Data Scientist at IBM in Canada. Under the Emerging Technologies division, Polong is responsible for educating the next generation of data scientists through Big Data University. Polong is a regular speaker in conferences and meetups, and holds an M.Sc. in Cognitive Psychology.
